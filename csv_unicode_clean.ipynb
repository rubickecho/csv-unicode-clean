{
  "nbformat": 4,
  "nbformat_minor": 0,
  "metadata": {
    "colab": {
      "provenance": [],
      "authorship_tag": "ABX9TyPjN6HshDCB5Yzp06GM7z0M",
      "include_colab_link": true
    },
    "kernelspec": {
      "name": "python3",
      "display_name": "Python 3"
    },
    "language_info": {
      "name": "python"
    }
  },
  "cells": [
    {
      "cell_type": "markdown",
      "metadata": {
        "id": "view-in-github",
        "colab_type": "text"
      },
      "source": [
        "<a href=\"https://colab.research.google.com/github/rubickecho/csv-unicode-clean/blob/main/csv_unicode_clean.ipynb\" target=\"_parent\"><img src=\"https://colab.research.google.com/assets/colab-badge.svg\" alt=\"Open In Colab\"/></a>"
      ]
    },
    {
      "cell_type": "code",
      "source": [
        "#@markdown # **Install libraries** 🏗️\n",
        "#@markdown This cell will take a little while to download several libraries.\n",
        "\n",
        "#@markdown ---\n",
        "\n",
        "! pip install pandas\n",
        "print('install success!')"
      ],
      "metadata": {
        "id": "DPpaS8cc1cnt"
      },
      "execution_count": null,
      "outputs": []
    },
    {
      "cell_type": "code",
      "source": [
        "#@markdown # **Optional:** 保存数据到 Google Drive 💾\n",
        "#@markdown Enter a Google Drive path and run this cell if you want to store the results inside Google Drive.\n",
        "\n",
        "# Uncomment to copy generated images to drive, faster than downloading directly from colab in my experience.\n",
        "from google.colab import drive\n",
        "from pathlib import Path\n",
        "drive_mount_path = Path(\"/\") / \"content\" / \"drive\"\n",
        "drive.mount(str(drive_mount_path))\n",
        "drive_mount_path /= \"My Drive\"\n",
        "#@markdown ---\n",
        "drive_path = \"CSV Files\" #@param {type:\"string\"}\n",
        "#@markdown ---\n",
        "#@markdown **Run this cell again if you change your Google Drive path.**"
      ],
      "metadata": {
        "id": "-ffae1uT17I7"
      },
      "execution_count": null,
      "outputs": []
    },
    {
      "cell_type": "code",
      "execution_count": null,
      "metadata": {
        "id": "pmagAUGX0m4o"
      },
      "outputs": [],
      "source": [
        "\n",
        "\n",
        "#@markdown # **CSV 文件移除 unicode 字符**\n",
        "#@markdown 设置待处理文件 Google Drive 路径，默认输出文件 ${filename}_cleaned.csv\n",
        "\n",
        "#@markdown ---\n",
        "#@markdown #### **Google Drive csv input file path**\n",
        "input_file = \"CSV Files/default.csv\" #@param {type:\"string\"}\n",
        "#@markdown ---\n",
        "\n",
        "import csv\n",
        "import pandas as pd\n",
        "\n",
        "\n",
        "def remove_unicode_from_csv(input_file, output_file):\n",
        "    # 读取CSV文件\n",
        "    dataframe = pd.read_csv(input_file)\n",
        "\n",
        "    # 判断Unicode内容所在的行\n",
        "    unicode_rows = []\n",
        "    with open(input_file, 'r', encoding='utf-8-sig') as file:\n",
        "        csv_reader = csv.reader(file)\n",
        "        for row in csv_reader:\n",
        "            print(row)\n",
        "            if any(char >= '\\u0080' for char in row[0]):\n",
        "                unicode_rows.append(row)\n",
        "\n",
        "    # 剔除Unicode内容所在的行并保存为新的CSV文件\n",
        "    clean_dataframe = dataframe[~dataframe.index.isin([row_num for row_num, _ in unicode_rows])]\n",
        "    clean_dataframe.to_csv(output_file, index=False)\n",
        "\n",
        "input_folder, input_filename = input_file.split(\"/\")\n",
        "new_output_filename = \"cleaned_\" + input_filename\n",
        "output_file = input_folder + '/' + new_output_filename\n",
        "output_file = drive_mount_path / Path(output_file.lstrip(\"/\"))\n",
        "\n",
        "remove_unicode_from_csv(drive_mount_path / Path(input_file.lstrip(\"/\")), output_file)"
      ]
    },
    {
      "cell_type": "markdown",
      "source": [],
      "metadata": {
        "id": "ayCx9fUZ0-Gf"
      }
    }
  ]
}